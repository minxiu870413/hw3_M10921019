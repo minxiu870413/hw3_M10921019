{
 "cells": [
  {
   "cell_type": "code",
   "execution_count": 7,
   "metadata": {},
   "outputs": [
    {
     "name": "stdout",
     "output_type": "stream",
     "text": [
      "  Class       Drink  Rank      Amount  Count\n",
      "0     A        Coke     7  (100, 200)    200\n",
      "1     B       Pepsi     6   (200, 10)    100\n",
      "2     C         7Up     5   (200, 10)    100\n",
      "3     D      Sprite     4  (400, 100)    200\n",
      "4     E       Latte     3   (800, 10)    100\n",
      "5     F    Espresso     2   (800, 10)    100\n",
      "6     G  Cappuccino     1  (900, 400)    200\n"
     ]
    },
    {
     "data": {
      "text/plain": [
       "(array([ 6.,  1.,  0.,  1.,  4.,  5.,  2., 11.,  8.,  7.,  7.,  7., 13.,\n",
       "         6.,  9., 10., 12., 11., 11.,  8., 12.,  4.,  4.,  4.,  4.,  7.,\n",
       "         3.,  5.,  3.,  4.,  4.,  2.,  0.,  3.,  1.,  0.,  0.,  0.,  0.,\n",
       "         1.]),\n",
       " array([  55.62763862,  108.87753318,  162.12742775,  215.37732231,\n",
       "         268.62721687,  321.87711143,  375.12700599,  428.37690055,\n",
       "         481.62679511,  534.87668967,  588.12658423,  641.37647879,\n",
       "         694.62637335,  747.87626791,  801.12616247,  854.37605703,\n",
       "         907.62595159,  960.87584615, 1014.12574072, 1067.37563528,\n",
       "        1120.62552984, 1173.8754244 , 1227.12531896, 1280.37521352,\n",
       "        1333.62510808, 1386.87500264, 1440.1248972 , 1493.37479176,\n",
       "        1546.62468632, 1599.87458088, 1653.12447544, 1706.37437   ,\n",
       "        1759.62426456, 1812.87415912, 1866.12405368, 1919.37394825,\n",
       "        1972.62384281, 2025.87373737, 2079.12363193, 2132.37352649,\n",
       "        2185.62342105]),\n",
       " <a list of 1 Patch objects>)"
      ]
     },
     "execution_count": 7,
     "metadata": {},
     "output_type": "execute_result"
    },
    {
     "data": {
      "image/png": "[encoded data removed]",
      "text/plain": [
       "<Figure size 432x288 with 1 Axes>"
      ]
     },
     "metadata": {
      "needs_background": "light"
     },
     "output_type": "display_data"
    }
   ],
   "source": [
    "import pandas as pd\n",
    "import numpy as np\n",
    "import matplotlib.pyplot as plt\n",
    "from gensim.models.word2vec import Word2Vec as w2v\n",
    "import gensim\n",
    "from collections import Counter\n",
    "import nltk\n",
    "import re\n",
    "import sklearn.manifold\n",
    "import multiprocessing\n",
    "from sklearn.manifold import TSNE\n",
    "from sklearn import preprocessing\n",
    "import matplotlib.pyplot as plot\n",
    "\n",
    "data=([('A','Coke',7,(100,200),200),\n",
    "    ('B','Pepsi',6,(200,10),100),\n",
    "    ('C','7Up',5,(200,10),100),\n",
    "    ('D','Sprite',4,(400,100),200),\n",
    "    ('E','Latte',3,(800,10),100),\n",
    "    ('F','Espresso',2,(800,10),100),\n",
    "    ('G','Cappuccino',1,(900,400),200)])\n",
    "\n",
    "df=pd.DataFrame(data,columns=['Class','Drink','Rank','Amount','Count'])\n",
    "print(df)\n",
    "\n",
    "x0=np.random.normal(100,200,200)\n",
    "x1=np.random.normal(200,10,100)\n",
    "x2=np.random.normal(200,10,100)\n",
    "x3=np.random.normal(400,100,200)\n",
    "x4=np.random.normal(800,10,100)\n",
    "x5=np.random.normal(800,10,100)\n",
    "x6=np.random.normal(900,400,200)\n",
    "\n",
    "kwargs = dict(histtype='stepfilled', alpha=0.3, density=False, bins=40) \n",
    "plt.hist(x0, **kwargs)\n",
    "plt.hist(x1, **kwargs) \n",
    "plt.hist(x2, **kwargs) \n",
    "plt.hist(x3, **kwargs)\n",
    "plt.hist(x4, **kwargs) \n",
    "plt.hist(x5, **kwargs) \n",
    "plt.hist(x6, **kwargs)\n",
    "\n",
    "m = gensim.models.KeyedVectors.load_word2vec_format(r'GoogleNews-vectors-negative300.bin', binary=True)\n",
    "dist = []\n",
    "d = ['Coke','Pepsi','7Up','Sprite','Latte','Espresso','Cappuccino']\n",
    "for i in d:\n",
    "    dist.append(m[i])\n",
    "\n",
    "d = ['Coke','Pepsi','7Up','Sprite','Latte','Espresso','Cappuccino']\n",
    "sim = pd.DataFrame(columns=d) \n",
    "s = []\n",
    "\n",
    "for j in range(7):\n",
    "    for k in range(7):\n",
    "        s.append(m.similarity(d[j], d[k]))\n",
    "    sim[d[j]] = s\n",
    "    s = []\n",
    "print(sim)\n",
    "\n",
    "t = TSNE(n_components=3,init='pca',n_iter=300) # n_c=input dim, iter >=200\n",
    "e = t.fit_transform(sim)\n",
    "\n",
    "plot.figure(figsize=(7,7))\n",
    "plot.scatter(e[:,0],e[:,2],color=\"red\")\n",
    "for i,label in enumerate(sim.columns):\n",
    "        plot.annotate(label, (t.embedding_[i,0], t.embedding_[i,2]))\n",
    "plot.show()\n"
   ]
  },
  {
   "cell_type": "code",
   "execution_count": null,
   "metadata": {},
   "outputs": [],
   "source": []
  }
 ],
 "metadata": {
  "kernelspec": {
   "display_name": "Python 3",
   "language": "python",
   "name": "python3"
  },
  "language_info": {
   "codemirror_mode": {
    "name": "ipython",
    "version": 3
   },
   "file_extension": ".py",
   "mimetype": "text/x-python",
   "name": "python",
   "nbconvert_exporter": "python",
   "pygments_lexer": "ipython3",
   "version": "3.7.6"
  }
 },
 "nbformat": 4,
 "nbformat_minor": 4
}
