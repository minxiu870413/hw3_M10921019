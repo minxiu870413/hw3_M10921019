{
  "nbformat": 4,
  "nbformat_minor": 0,
  "metadata": {
    "colab": {
      "name": "作業三地圖",
      "provenance": []
    },
    "kernelspec": {
      "name": "python3",
      "display_name": "Python 3"
    },
    "language_info": {
      "name": "python"
    }
  },
  "cells": [
    {
      "cell_type": "code",
      "metadata": {
        "id": "rmb8dgHGhXif"
      },
      "source": [
        "datasets = pd.read_csv('資料集2.csv',encoding='unicode_escape')"
      ],
      "execution_count": null,
      "outputs": []
    },
    {
      "cell_type": "code",
      "metadata": {
        "colab": {
          "base_uri": "https://localhost:8080/"
        },
        "id": "5cGz8UZZhYfn",
        "outputId": "31385a4b-9f62-4b9f-9562-ba0847dea170"
      },
      "source": [
        "print (datasets)"
      ],
      "execution_count": null,
      "outputs": [
        {
          "output_type": "stream",
          "text": [
            "        0   36.38   66.28  159.83  212.58  307.96  339.28\n",
            "0   36.38    0.00   29.89  123.45  176.20  271.58  302.90\n",
            "1   66.28   29.89    0.00   93.55  146.30  241.68  273.01\n",
            "2  159.83  123.45   93.55    0.00   52.75  148.07  179.46\n",
            "3  212.58  176.20  146.30   52.75    0.00   95.38  126.71\n",
            "4  307.96  271.58  241.68  148.07   95.38    0.00   31.33\n",
            "5  339.28  302.90  273.01  179.46  126.71   31.33    0.00\n"
          ],
          "name": "stdout"
        }
      ]
    },
    {
      "cell_type": "code",
      "metadata": {
        "colab": {
          "base_uri": "https://localhost:8080/"
        },
        "id": "8El6do0wmngk",
        "outputId": "2c06bf4e-1a6b-4940-e6eb-e4d4daf50560"
      },
      "source": [
        "import numpy\n",
        "list = numpy.loadtxt(open(\"/content/資料集2.csv\",\"rb\"),delimiter=\",\",skiprows=0)\n",
        "print(list)\n",
        "print(list[1])\n",
        "print(list[2])\n",
        "print(list[1]+list[2])\n",
        "print(len(list))\n"
      ],
      "execution_count": null,
      "outputs": [
        {
          "output_type": "stream",
          "text": [
            "[[  0.    36.38  66.28 159.83 212.58 307.96 339.28]\n",
            " [ 36.38   0.    29.89 123.45 176.2  271.58 302.9 ]\n",
            " [ 66.28  29.89   0.    93.55 146.3  241.68 273.01]\n",
            " [159.83 123.45  93.55   0.    52.75 148.07 179.46]\n",
            " [212.58 176.2  146.3   52.75   0.    95.38 126.71]\n",
            " [307.96 271.58 241.68 148.07  95.38   0.    31.33]\n",
            " [339.28 302.9  273.01 179.46 126.71  31.33   0.  ]]\n",
            "[ 36.38   0.    29.89 123.45 176.2  271.58 302.9 ]\n",
            "[ 66.28  29.89   0.    93.55 146.3  241.68 273.01]\n",
            "[102.66  29.89  29.89 217.   322.5  513.26 575.91]\n",
            "7\n"
          ],
          "name": "stdout"
        }
      ]
    },
    {
      "cell_type": "code",
      "metadata": {
        "id": "-z4Y9hKtpgMt"
      },
      "source": [
        "import matplotlib.pyplot as plt\n",
        "from sklearn.manifold import MDS\n",
        "import numpy as np"
      ],
      "execution_count": null,
      "outputs": []
    },
    {
      "cell_type": "code",
      "metadata": {
        "colab": {
          "base_uri": "https://localhost:8080/",
          "height": 486
        },
        "id": "kDhsfTgbpUOr",
        "outputId": "480a0c5a-edf8-48c4-fc03-3068bed820fc"
      },
      "source": [
        "index = ['Taipei','Taoyuan','Hsinchu','Taichung', 'Yunlin', 'Tainan', 'Kaohsiung']\n",
        "columns = ['Taipei','Taoyuan','Hsinchu','Taichung', 'Yunlin', 'Tainan', 'Kaohsiung']\n",
        "Word = pd.DataFrame(data,index,columns)\n",
        "Word\n",
        "\n",
        "mds = MDS()\n",
        "mds.fit(list)\n",
        "\n",
        "a = mds.embedding_\n",
        "# print(a)\n",
        "x = a[0:,0]\n",
        "y = a[0:,1]\n",
        "plt.scatter(x,y,color='pink')\n",
        "for i in range(len(x)):\n",
        "    plt.annotate(index[i], xy = (x[i], y[i]), xytext = (x[i]+0.1, y[i]+0.1)) # 这里xy是需要标记的坐标，xytext是对应的标签坐标\n",
        "plt.show()"
      ],
      "execution_count": null,
      "outputs": [
        {
          "output_type": "stream",
          "text": [
            "/usr/local/lib/python3.7/dist-packages/sklearn/manifold/_mds.py:419: UserWarning: The MDS API has changed. ``fit`` now constructs an dissimilarity matrix from data. To use a custom dissimilarity matrix, set ``dissimilarity='precomputed'``.\n",
            "  warnings.warn(\"The MDS API has changed. ``fit`` now constructs an\"\n"
          ],
          "name": "stderr"
        },
        {
          "output_type": "display_data",
          "data": {
            "image/png": "[encoded data removed]",
            "text/plain": [
              "<Figure size 504x504 with 1 Axes>"
            ]
          },
          "metadata": {
            "tags": [],
            "needs_background": "light"
          }
        }
      ]
    }
  ]
}